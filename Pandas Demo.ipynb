{
 "cells": [
  {
   "cell_type": "markdown",
   "metadata": {},
   "source": [
    "# Pandas Usage for ML"
   ]
  },
  {
   "cell_type": "markdown",
   "metadata": {},
   "source": [
    "### Import Pandas"
   ]
  },
  {
   "cell_type": "code",
   "execution_count": 10,
   "metadata": {},
   "outputs": [],
   "source": [
    "import pandas as pd"
   ]
  },
  {
   "cell_type": "markdown",
   "metadata": {},
   "source": [
    "### Creating Dataframes"
   ]
  },
  {
   "cell_type": "code",
   "execution_count": 11,
   "metadata": {},
   "outputs": [],
   "source": [
    "employee_data = {'number': [1,2,3,4], 'name': ['Tony', 'Natasha', 'Bruce', 'Steve'], 'Salary': [500, 550, 400, 375]}"
   ]
  },
  {
   "cell_type": "code",
   "execution_count": 12,
   "metadata": {},
   "outputs": [
    {
     "name": "stdout",
     "output_type": "stream",
     "text": [
      "   number     name  Salary\n",
      "0       1     Tony     500\n",
      "1       2  Natasha     550\n",
      "2       3    Bruce     400\n",
      "3       4    Steve     375\n"
     ]
    }
   ],
   "source": [
    "employee_dataFrame = pd.DataFrame(employee_data)\n",
    "print(employee_dataFrame)"
   ]
  },
  {
   "cell_type": "markdown",
   "metadata": {},
   "source": [
    "### Selecting rows using head and tail"
   ]
  },
  {
   "cell_type": "code",
   "execution_count": 13,
   "metadata": {},
   "outputs": [
    {
     "name": "stdout",
     "output_type": "stream",
     "text": [
      "   number     name  Salary\n",
      "0       1     Tony     500\n",
      "1       2  Natasha     550\n"
     ]
    }
   ],
   "source": [
    "print(employee_dataFrame.head(2)) #Selects first 2 rows"
   ]
  },
  {
   "cell_type": "code",
   "execution_count": 14,
   "metadata": {},
   "outputs": [
    {
     "name": "stdout",
     "output_type": "stream",
     "text": [
      "   number   name  Salary\n",
      "2       3  Bruce     400\n",
      "3       4  Steve     375\n"
     ]
    }
   ],
   "source": [
    "print(employee_dataFrame.tail(2)) #Selects last 2 rows"
   ]
  },
  {
   "cell_type": "markdown",
   "metadata": {},
   "source": [
    "### Merging DataFrames"
   ]
  },
  {
   "cell_type": "code",
   "execution_count": 21,
   "metadata": {},
   "outputs": [],
   "source": [
    "grocery_1 = {'number': [1,2,3,4,5], 'name': ['Apple', 'Banana', 'Chips', 'PopCorn', 'Cheese'], 'price': [20, 30, 60, 50, 90]}\n",
    "grocery_2 = {'number': [1,2,3,4,5], 'name': ['Apple', 'Banana', 'Chips', 'PopCorn', 'Cheese'], 'price': [20, 30, 60, 50, 90]}"
   ]
  },
  {
   "cell_type": "code",
   "execution_count": 22,
   "metadata": {},
   "outputs": [],
   "source": [
    "grocery_dataframe_1 = pd.DataFrame(grocery_1)\n",
    "grocery_dataframe_2 = pd.DataFrame(grocery_2)"
   ]
  },
  {
   "cell_type": "code",
   "execution_count": 24,
   "metadata": {},
   "outputs": [
    {
     "name": "stdout",
     "output_type": "stream",
     "text": [
      "   number     name  price\n",
      "0       1    Apple     20\n",
      "1       2   Banana     30\n",
      "2       3    Chips     60\n",
      "3       4  PopCorn     50\n",
      "4       5   Cheese     90\n"
     ]
    }
   ],
   "source": [
    "print(pd.merge(grocery_dataframe_1, grocery_dataframe_2)) #Prints only the common data in both dataframes"
   ]
  },
  {
   "cell_type": "code",
   "execution_count": 27,
   "metadata": {},
   "outputs": [],
   "source": [
    "#Modifying grocery_2 for seeing changes\n",
    "grocery_2 = {'number': [1,2,3,4,5], 'name': ['Apple', 'Banana', 'Chicken', 'PopCorn', 'Cheese'], 'price': [20, 30, 160, 50, 90]}\n",
    "grocery_dataframe_2 = pd.DataFrame(grocery_2)"
   ]
  },
  {
   "cell_type": "code",
   "execution_count": 30,
   "metadata": {},
   "outputs": [
    {
     "name": "stdout",
     "output_type": "stream",
     "text": [
      "   number     name  price\n",
      "0       1    Apple     20\n",
      "1       2   Banana     30\n",
      "2       4  PopCorn     50\n",
      "3       5   Cheese     90\n"
     ]
    }
   ],
   "source": [
    "print(pd.merge(grocery_dataframe_1, grocery_dataframe_2)) #Prints only common data!"
   ]
  },
  {
   "cell_type": "code",
   "execution_count": 32,
   "metadata": {},
   "outputs": [
    {
     "name": "stdout",
     "output_type": "stream",
     "text": [
      "   number   name_x  price_x   name_y  price_y\n",
      "0       1    Apple       20    Apple       20\n",
      "1       2   Banana       30   Banana       30\n",
      "2       3    Chips       60  Chicken      160\n",
      "3       4  PopCorn       50  PopCorn       50\n",
      "4       5   Cheese       90   Cheese       90\n"
     ]
    }
   ],
   "source": [
    "print(pd.merge(grocery_dataframe_1, grocery_dataframe_2, on='number')) #on parameter specifies what is to be kept common"
   ]
  },
  {
   "cell_type": "code",
   "execution_count": 33,
   "metadata": {},
   "outputs": [
    {
     "name": "stdout",
     "output_type": "stream",
     "text": [
      "   number_x     name  price_x  number_y  price_y\n",
      "0         1    Apple       20         1       20\n",
      "1         2   Banana       30         2       30\n",
      "2         4  PopCorn       50         4       50\n",
      "3         5   Cheese       90         5       90\n"
     ]
    }
   ],
   "source": [
    "print(pd.merge(grocery_dataframe_1, grocery_dataframe_2, on='name')) "
   ]
  },
  {
   "cell_type": "code",
   "execution_count": 34,
   "metadata": {},
   "outputs": [
    {
     "name": "stdout",
     "output_type": "stream",
     "text": [
      "   number_x   name_x  price  number_y   name_y\n",
      "0         1    Apple     20         1    Apple\n",
      "1         2   Banana     30         2   Banana\n",
      "2         4  PopCorn     50         4  PopCorn\n",
      "3         5   Cheese     90         5   Cheese\n"
     ]
    }
   ],
   "source": [
    "print(pd.merge(grocery_dataframe_1, grocery_dataframe_2, on='price')) "
   ]
  },
  {
   "cell_type": "markdown",
   "metadata": {},
   "source": [
    "### Joining DataFrames"
   ]
  },
  {
   "cell_type": "code",
   "execution_count": 35,
   "metadata": {},
   "outputs": [
    {
     "name": "stdout",
     "output_type": "stream",
     "text": [
      "{'number': [1, 2, 3, 4, 5], 'name': ['Apple', 'Banana', 'Chips', 'PopCorn', 'Cheese'], 'price': [20, 30, 60, 50, 90]}\n"
     ]
    }
   ],
   "source": [
    "print(grocery_1)"
   ]
  },
  {
   "cell_type": "code",
   "execution_count": 37,
   "metadata": {},
   "outputs": [],
   "source": [
    "grocery_1_attributes = {'color': ['Red', 'Banana', 'Orange', 'Cream', 'White'], 'weight': [10, 15, 15, 100, 250]}\n",
    "attributes_1_dataframe = pd.DataFrame(grocery_1_attributes)"
   ]
  },
  {
   "cell_type": "code",
   "execution_count": 38,
   "metadata": {},
   "outputs": [
    {
     "name": "stdout",
     "output_type": "stream",
     "text": [
      "   number     name  price   color  weight\n",
      "0       1    Apple     20     Red      10\n",
      "1       2   Banana     30  Banana      15\n",
      "2       3    Chips     60  Orange      15\n",
      "3       4  PopCorn     50   Cream     100\n",
      "4       5   Cheese     90   White     250\n"
     ]
    }
   ],
   "source": [
    "join_1 = grocery_dataframe_1.join(attributes_1_dataframe)\n",
    "print(join_1)"
   ]
  },
  {
   "cell_type": "code",
   "execution_count": 40,
   "metadata": {},
   "outputs": [
    {
     "name": "stdout",
     "output_type": "stream",
     "text": [
      "    color  weight  number     name  price\n",
      "0     Red      10       1    Apple     20\n",
      "1  Banana      15       2   Banana     30\n",
      "2  Orange      15       3    Chips     60\n",
      "3   Cream     100       4  PopCorn     50\n",
      "4   White     250       5   Cheese     90\n"
     ]
    }
   ],
   "source": [
    "join_2 = attributes_1_dataframe.join(grocery_dataframe_1)\n",
    "print(join_2)"
   ]
  },
  {
   "cell_type": "markdown",
   "metadata": {},
   "source": [
    "### Reading CSV Files"
   ]
  },
  {
   "cell_type": "code",
   "execution_count": 45,
   "metadata": {},
   "outputs": [],
   "source": [
    "demo_csv = pd.read_csv('pandas_demo.csv') #This converts a csv file in pandas dataframe"
   ]
  },
  {
   "cell_type": "code",
   "execution_count": 46,
   "metadata": {},
   "outputs": [
    {
     "name": "stdout",
     "output_type": "stream",
     "text": [
      "   num char   color\n",
      "0    1    a     red\n",
      "1    2    b   white\n",
      "2    3    c    blue\n",
      "3    4    d  yellow\n",
      "4    5    e   green\n",
      "5    6    f  orange\n",
      "6    7    g  purple\n",
      "7    8    h    none\n",
      "8    9    I    none\n",
      "9   10    j    none\n"
     ]
    }
   ],
   "source": [
    "print(demo_csv)"
   ]
  }
 ],
 "metadata": {
  "kernelspec": {
   "display_name": "Python 3",
   "language": "python",
   "name": "python3"
  },
  "language_info": {
   "codemirror_mode": {
    "name": "ipython",
    "version": 3
   },
   "file_extension": ".py",
   "mimetype": "text/x-python",
   "name": "python",
   "nbconvert_exporter": "python",
   "pygments_lexer": "ipython3",
   "version": "3.8.5"
  }
 },
 "nbformat": 4,
 "nbformat_minor": 4
}
